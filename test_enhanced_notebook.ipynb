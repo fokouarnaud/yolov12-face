{
 "cells": [
  {
   "cell_type": "markdown",
   "metadata": {},
   "source": [
    "# Test YOLOv12-Face Enhanced\n",
    "Notebook de test pour vérifier que les modules Enhanced fonctionnent correctement"
   ]
  },
  {
   "cell_type": "code",
   "execution_count": null,
   "metadata": {},
   "outputs": [],
   "source": [
    "# Configuration du PYTHONPATH\n",
    "import sys\n",
    "import os\n",
    "from pathlib import Path\n",
    "\n",
    "# Ajouter le répertoire au PYTHONPATH\n",
    "sys.path.insert(0, str(Path.cwd()))\n",
    "\n",
    "print(f\"Working directory: {Path.cwd()}\")\n",
    "print(f\"Python path: {sys.path[0]}\")"
   ]
  },
  {
   "cell_type": "code",
   "execution_count": null,
   "metadata": {},
   "outputs": [],
   "source": [
    "# Test des imports\n",
    "try:\n",
    "    from ultralytics.nn.modules.enhanced import A2Module, RELAN\n",
    "    print(\"✅ Import des modules Enhanced réussi!\")\n",
    "    print(f\"A2Module: {A2Module}\")\n",
    "    print(f\"RELAN: {RELAN}\")\n",
    "except Exception as e:\n",
    "    print(f\"❌ Erreur import: {e}\")"
   ]
  },
  {
   "cell_type": "code",
   "execution_count": null,
   "metadata": {},
   "outputs": [],
   "source": [
    "# Test du chargement du modèle\n",
    "from ultralytics import YOLO\n",
    "\n",
    "# Chemin de configuration\n",
    "config_path = \"ultralytics/cfg/models/v12/yolov12-face-enhanced.yaml\"\n",
    "print(f\"Configuration: {config_path}\")\n",
    "\n",
    "try:\n",
    "    # Créer le modèle\n",
    "    model = YOLO(config_path)\n",
    "    print(\"✅ Modèle Enhanced chargé avec succès!\")\n",
    "    \n",
    "    # Afficher les infos du modèle\n",
    "    print(f\"\\nArchitecture: {model.model}\")\n",
    "    print(f\"\\nNombre de paramètres: {sum(p.numel() for p in model.parameters()):,}\")\n",
    "    \n",
    "except Exception as e:\n",
    "    print(f\"❌ Erreur: {e}\")\n",
    "    import traceback\n",
    "    traceback.print_exc()"
   ]
  },
  {
   "cell_type": "code",
   "execution_count": null,
   "metadata": {},
   "outputs": [],
   "source": [
    "# Test de création d'instance des modules\n",
    "import torch\n",
    "\n",
    "print(\"Test A2Module:\")\n",
    "try:\n",
    "    a2_module = A2Module(512, 512)\n",
    "    x = torch.randn(1, 512, 32, 32)\n",
    "    out = a2_module(x)\n",
    "    print(f\"✅ A2Module: Input shape {x.shape} -> Output shape {out.shape}\")\n",
    "except Exception as e:\n",
    "    print(f\"❌ Erreur A2Module: {e}\")\n",
    "\n",
    "print(\"\\nTest RELAN:\")\n",
    "try:\n",
    "    relan = RELAN(512, 512)\n",
    "    x = torch.randn(1, 512, 32, 32)\n",
    "    out = relan(x)\n",
    "    print(f\"✅ RELAN: Input shape {x.shape} -> Output shape {out.shape}\")\n",
    "except Exception as e:\n",
    "    print(f\"❌ Erreur RELAN: {e}\")"
   ]
  },
  {
   "cell_type": "code",
   "execution_count": null,
   "metadata": {},
   "outputs": [],
   "source": [
    "# Afficher la structure du modèle\n",
    "if 'model' in locals():\n",
    "    print(\"Structure du modèle Enhanced:\")\n",
    "    print(\"=\"*50)\n",
    "    for i, (name, layer) in enumerate(model.model.named_children()):\n",
    "        print(f\"{i:3d} - {name:20s} {layer}\")"
   ]
  }
 ],
 "metadata": {
  "kernelspec": {
   "display_name": "Python 3",
   "language": "python",
   "name": "python3"
  },
  "language_info": {
   "codemirror_mode": {
    "name": "ipython",
    "version": 3
   },
   "file_extension": ".py",
   "mimetype": "text/x-python",
   "name": "python",
   "nbconvert_exporter": "python",
   "pygments_lexer": "ipython3",
   "version": "3.8.0"
  }
 },
 "nbformat": 4,
 "nbformat_minor": 4
}
