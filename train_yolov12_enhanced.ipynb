{
 "cells": [
  {
   "cell_type": "markdown",
   "metadata": {},
   "source": [
    "# 🚀 YOLOv12-Face Enhanced - Training Simple\n",
    "\n",
    "Workflow : Installation → Configuration → Entraînement Enhanced → Résultats"
   ]
  },
  {
   "cell_type": "markdown",
   "metadata": {},
   "source": [
    "## 1. 📦 Installation des dépendances"
   ]
  },
  {
   "cell_type": "code",
   "execution_count": null,
   "metadata": {},
   "outputs": [],
   "source": [
    "# Installer les dépendances nécessaires\n",
    "!pip install ultralytics gdown opencv-python -q\n",
    "\n",
    "# Vérifier l'installation\n",
    "import torch\n",
    "print(f\"✅ PyTorch: {torch.__version__}\")\n",
    "print(f\"✅ CUDA disponible: {torch.cuda.is_available()}\")\n",
    "if torch.cuda.is_available():\n",
    "    print(f\"✅ GPU: {torch.cuda.get_device_name(0)}\")"
   ]
  },
  {
   "cell_type": "markdown",
   "metadata": {},
   "source": [
    "## 2. 🔧 Configuration des fichiers Enhanced"
   ]
  },
  {
   "cell_type": "code",
   "execution_count": null,
   "metadata": {},
   "outputs": [],
   "source": [
    "import os\n",
    "import shutil\n",
    "from pathlib import Path\n",
    "\n",
    "# Gestion du répertoire de travail (compatible cloud)\n",
    "try:\n",
    "    work_dir = Path.cwd()\n",
    "except (FileNotFoundError, OSError):\n",
    "    # Fallback pour environnements cloud\n",
    "    work_dir = Path('/content') if Path('/content').exists() else Path.home()\n",
    "    os.chdir(work_dir)\n",
    "    print(f\"⚠️ Répertoire changé vers: {work_dir}\")\n",
    "\n",
    "print(f\"📁 Répertoire de travail: {work_dir}\")\n",
    "\n",
    "# Vérifier si nous avons les configs Enhanced localement\n",
    "configs_dir = work_dir / \"scripts\" / \"configs\"\n",
    "has_local_configs = configs_dir.exists() and len(list(configs_dir.rglob('*.yaml'))) > 0\n",
    "\n",
    "if has_local_configs:\n",
    "    print(\"✅ Configurations Enhanced trouvées localement\")\n",
    "    # Restaurer les fichiers\n",
    "    !python scripts/restore_configs.py\n",
    "else:\n",
    "    print(\"⚠️ Pas de configurations Enhanced - utilisation des configs par défaut\")\n",
    "    print(\"💡 Vous pouvez utiliser le modèle de base: yolov12n.yaml\")"
   ]
  },
  {
   "cell_type": "markdown",
   "metadata": {},
   "source": [
    "## 3. 📥 Préparation du dataset WIDERFace"
   ]
  },
  {
   "cell_type": "code",
   "execution_count": null,
   "metadata": {},
   "outputs": [],
   "source": [
    "# Vérifier si le dataset existe déjà\n",
    "if Path('datasets/widerface/data.yaml').exists():\n",
    "    print(\"✅ Dataset WIDERFace déjà présent\")\n",
    "    DATA_CONFIG = 'datasets/widerface/data.yaml'\n",
    "else:\n",
    "    print(\"📥 Dataset WIDERFace non trouvé\")\n",
    "    print(\"💡 Vous pouvez:\")\n",
    "    print(\"   1. Utiliser un dataset COCO existant\")\n",
    "    print(\"   2. Télécharger WIDERFace manuellement\")\n",
    "    \n",
    "    # Utiliser COCO comme fallback\n",
    "    DATA_CONFIG = 'coco.yaml'\n",
    "    print(f\"📊 Utilisation du dataset: {DATA_CONFIG}\")"
   ]
  },
  {
   "cell_type": "markdown",
   "metadata": {},
   "source": [
    "## 4. 🏋️ Configuration et Entraînement"
   ]
  },
  {
   "cell_type": "code",
   "execution_count": null,
   "metadata": {},
   "outputs": [],
   "source": [
    "# Configuration de l'entraînement\n",
    "EPOCHS = 50  # Réduit pour tester\n",
    "BATCH_SIZE = 16\n",
    "DEVICE = 0 if torch.cuda.is_available() else 'cpu'\n",
    "\n",
    "# Choisir le modèle (Enhanced si disponible, sinon de base)\n",
    "enhanced_model = 'ultralytics/cfg/models/v12/yolov12-face-enhanced.yaml'\n",
    "base_model = 'yolov12n.yaml'\n",
    "\n",
    "if Path(enhanced_model).exists():\n",
    "    MODEL = enhanced_model\n",
    "    MODEL_NAME = 'yolov12-face-enhanced'\n",
    "    print(\"🧠 Utilisation du modèle Enhanced avec modules d'attention\")\n",
    "else:\n",
    "    MODEL = base_model\n",
    "    MODEL_NAME = 'yolov12-face-base'\n",
    "    print(\"⚙️ Utilisation du modèle de base\")\n",
    "\n",
    "print(f\"\\n📊 Configuration:\")\n",
    "print(f\"   • Modèle: {MODEL}\")\n",
    "print(f\"   • Dataset: {DATA_CONFIG}\")\n",
    "print(f\"   • Epochs: {EPOCHS}\")\n",
    "print(f\"   • Batch: {BATCH_SIZE}\")\n",
    "print(f\"   • Device: {DEVICE}\")"
   ]
  },
  {
   "cell_type": "markdown",
   "metadata": {},
   "source": [
    "## 5. 🚀 Lancement de l'entraînement"
   ]
  },
  {
   "cell_type": "code",
   "execution_count": null,
   "metadata": {},
   "outputs": [],
   "source": [
    "# Créer le dossier de sortie\n",
    "!mkdir -p runs/train\n",
    "\n",
    "# Lancer l'entraînement\n",
    "print(\"🚀 Démarrage de l'entraînement...\")\n",
    "!yolo detect train model={MODEL} data={DATA_CONFIG} epochs={EPOCHS} batch={BATCH_SIZE} device={DEVICE} imgsz=640 project=runs/train name={MODEL_NAME} exist_ok=True save=True plots=True\n",
    "\n",
    "print(\"\\n🎉 Entraînement terminé !\")"
   ]
  },
  {
   "cell_type": "markdown",
   "metadata": {},
   "source": [
    "## 6. 📊 Validation et Résultats"
   ]
  },
  {
   "cell_type": "code",
   "execution_count": null,
   "metadata": {},
   "outputs": [],
   "source": [
    "# Chemin vers le meilleur modèle\n",
    "BEST_MODEL = f'runs/train/{MODEL_NAME}/weights/best.pt'\n",
    "\n",
    "if Path(BEST_MODEL).exists():\n",
    "    print(f\"📊 Validation du modèle {MODEL_NAME}...\")\n",
    "    !yolo detect val model={BEST_MODEL} data={DATA_CONFIG} device={DEVICE}\n",
    "    \n",
    "    print(f\"\\n✅ Modèle sauvegardé: {BEST_MODEL}\")\n",
    "else:\n",
    "    print(\"❌ Modèle non trouvé\")"
   ]
  },
  {
   "cell_type": "markdown",
   "metadata": {},
   "source": [
    "## 7. 📦 Export du modèle"
   ]
  },
  {
   "cell_type": "code",
   "execution_count": null,
   "metadata": {},
   "outputs": [],
   "source": [
    "# Export en différents formats\n",
    "if Path(BEST_MODEL).exists():\n",
    "    print(\"📦 Export du modèle...\")\n",
    "    \n",
    "    # ONNX pour déploiement\n",
    "    !yolo export model={BEST_MODEL} format=onnx simplify=True\n",
    "    \n",
    "    # TorchScript pour PyTorch\n",
    "    !yolo export model={BEST_MODEL} format=torchscript\n",
    "    \n",
    "    print(\"\\n✅ Export terminé !\")\n",
    "    print(f\"📁 Fichiers disponibles dans: runs/train/{MODEL_NAME}/weights/\")\n",
    "else:\n",
    "    print(\"❌ Pas de modèle à exporter\")"
   ]
  },
  {
   "cell_type": "markdown",
   "metadata": {},
   "source": [
    "## 8. 🖼️ Test de détection"
   ]
  },
  {
   "cell_type": "code",
   "execution_count": null,
   "metadata": {},
   "outputs": [],
   "source": [
    "# Test sur image d'exemple\n",
    "if Path(BEST_MODEL).exists():\n",
    "    # Chercher une image de test\n",
    "    test_images = []\n",
    "    \n",
    "    # Chercher dans le dataset\n",
    "    if Path('datasets/widerface/images/val').exists():\n",
    "        test_images = list(Path('datasets/widerface/images/val').glob('*.jpg'))[:3]\n",
    "    \n",
    "    if test_images:\n",
    "        print(f\"🖼️ Test sur {len(test_images)} images...\")\n",
    "        \n",
    "        # Créer dossier de résultats\n",
    "        !mkdir -p test_results\n",
    "        \n",
    "        # Tester sur les images\n",
    "        for img in test_images:\n",
    "            !yolo detect predict model={BEST_MODEL} source={str(img)} save=True project=test_results name=demo exist_ok=True conf=0.5\n",
    "        \n",
    "        print(\"\\n✅ Résultats sauvegardés dans test_results/demo/\")\n",
    "    else:\n",
    "        print(\"⚠️ Aucune image de test trouvée\")\n",
    "        print(\"💡 Vous pouvez tester avec: yolo predict model=best.pt source=your_image.jpg\")\n",
    "else:\n",
    "    print(\"❌ Modèle non disponible pour les tests\")"
   ]
  },
  {
   "cell_type": "markdown",
   "metadata": {},
   "source": [
    "## 9. 📈 Visualisation des résultats"
   ]
  },
  {
   "cell_type": "code",
   "execution_count": null,
   "metadata": {},
   "outputs": [],
   "source": [
    "# Afficher les graphiques d'entraînement\n",
    "from IPython.display import Image, display\n",
    "\n",
    "results_path = Path(f'runs/train/{MODEL_NAME}')\n",
    "\n",
    "if results_path.exists():\n",
    "    print(f\"📊 Résultats de l'entraînement {MODEL_NAME}:\\n\")\n",
    "    \n",
    "    # Graphiques à afficher\n",
    "    plots = ['results.png', 'confusion_matrix.png', 'F1_curve.png', 'PR_curve.png']\n",
    "    \n",
    "    for plot in plots:\n",
    "        plot_path = results_path / plot\n",
    "        if plot_path.exists():\n",
    "            print(f\"📈 {plot}:\")\n",
    "            try:\n",
    "                display(Image(filename=str(plot_path), width=800))\n",
    "            except:\n",
    "                print(f\"   Disponible: {plot_path}\")\n",
    "        else:\n",
    "            print(f\"⚠️ {plot} non trouvé\")\n",
    "    \n",
    "    # Afficher les métriques finales\n",
    "    results_csv = results_path / 'results.csv'\n",
    "    if results_csv.exists():\n",
    "        print(\"\\n📊 Métriques finales:\")\n",
    "        import pandas as pd\n",
    "        df = pd.read_csv(results_csv)\n",
    "        if len(df) > 0:\n",
    "            last_row = df.iloc[-1]\n",
    "            print(f\"   mAP@0.5: {last_row.get('metrics/mAP50(B)', 'N/A'):.4f}\")\n",
    "            print(f\"   mAP@0.5-0.95: {last_row.get('metrics/mAP50-95(B)', 'N/A'):.4f}\")\n",
    "            print(f\"   Precision: {last_row.get('metrics/precision(B)', 'N/A'):.4f}\")\n",
    "            print(f\"   Recall: {last_row.get('metrics/recall(B)', 'N/A'):.4f}\")\n",
    "else:\n",
    "    print(\"❌ Dossier de résultats non trouvé\")"
   ]
  },
  {
   "cell_type": "markdown",
   "metadata": {},
   "source": [
    "## 💡 Résumé et Commandes Utiles"
   ]
  },
  {
   "cell_type": "code",
   "execution_count": null,
   "metadata": {},
   "outputs": [],
   "source": [
    "# Résumé final\n",
    "print(\"🎉 ENTRAÎNEMENT TERMINÉ !\")\n",
    "print(\"=\" * 40)\n",
    "\n",
    "if Path(BEST_MODEL).exists():\n",
    "    print(f\"✅ Modèle: {MODEL_NAME}\")\n",
    "    print(f\"📁 Poids: {BEST_MODEL}\")\n",
    "    print(f\"📊 Résultats: runs/train/{MODEL_NAME}/\")\n",
    "    \n",
    "    print(\"\\n🔧 Commandes utiles:\")\n",
    "    print(f\"# Test sur webcam:\")\n",
    "    print(f\"yolo predict model={BEST_MODEL} source=0 show=True\")\n",
    "    \n",
    "    print(f\"\\n# Test sur vidéo:\")\n",
    "    print(f\"yolo predict model={BEST_MODEL} source=video.mp4 save=True\")\n",
    "    \n",
    "    print(f\"\\n# Benchmark:\")\n",
    "    print(f\"yolo benchmark model={BEST_MODEL}\")\n",
    "    \n",
    "    if 'enhanced' in MODEL_NAME:\n",
    "        print(\"\\n🧠 Modèle Enhanced avec modules d'attention entraîné avec succès !\")\n",
    "    else:\n",
    "        print(\"\\n⚙️ Modèle de base entraîné. Pour Enhanced, ajoutez les configurations.\")\n",
    "else:\n",
    "    print(\"❌ Entraînement échoué - vérifiez les logs ci-dessus\")\n",
    "\n",
    "print(\"\\n🚀 Le modèle est prêt pour la production !\")"
   ]
  }
 ],
 "metadata": {
  "kernelspec": {
   "display_name": "Python 3",
   "language": "python",
   "name": "python3"
  },
  "language_info": {
   "codemirror_mode": {
    "name": "ipython",
    "version": 3
   },
   "file_extension": ".py",
   "mimetype": "text/x-python",
   "name": "python",
   "nbconvert_exporter": "python",
   "pygments_lexer": "ipython3",
   "version": "3.8.0"
  }
 },
 "nbformat": 4,
 "nbformat_minor": 4
}