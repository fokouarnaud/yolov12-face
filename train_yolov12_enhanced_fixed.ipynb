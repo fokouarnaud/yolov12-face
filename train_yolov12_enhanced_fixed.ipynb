{
 "cells": [
  {
   "cell_type": "markdown",
   "metadata": {},
   "source": [
    "# 🚀 YOLOv12-Face Enhanced - Training (Corrigé)\n",
    "\n",
    "Entraînement du modèle YOLOv12-Face avec modules d'attention Enhanced\n",
    "**Version corrigée utilisant le fork local d'Ultralytics**"
   ]
  },
  {
   "cell_type": "markdown",
   "metadata": {},
   "source": [
    "## 1. 📦 Installation des dépendances"
   ]
  },
  {
   "cell_type": "code",
   "execution_count": null,
   "metadata": {},
   "outputs": [],
   "source": [
    "# IMPORTANT: Ne PAS installer ultralytics via pip\n",
    "# On utilise le fork local dans ./ultralytics/\n",
    "\n",
    "# Installer seulement les dépendances (sans ultralytics)\n",
    "!pip install -r requirements.txt -q\n",
    "\n",
    "# Vérifier l'installation\n",
    "import torch\n",
    "print(f\"✅ PyTorch: {torch.__version__}\")\n",
    "print(f\"✅ CUDA disponible: {torch.cuda.is_available()}\")\n",
    "if torch.cuda.is_available():\n",
    "    print(f\"✅ GPU: {torch.cuda.get_device_name(0)}\")"
   ]
  },
  {
   "cell_type": "markdown",
   "metadata": {},
   "source": [
    "## 2. 🔧 Configuration du fork local"
   ]
  },
  {
   "cell_type": "code",
   "execution_count": null,
   "metadata": {},
   "outputs": [],
   "source": [
    "import os\n",
    "import sys\n",
    "from pathlib import Path\n",
    "\n",
    "# Ajouter le répertoire courant au PYTHONPATH pour utiliser le fork local\n",
    "current_dir = Path.cwd()\n",
    "if str(current_dir) not in sys.path:\n",
    "    sys.path.insert(0, str(current_dir))\n",
    "\n",
    "print(f\"📁 Répertoire de travail: {current_dir}\")\n",
    "print(f\"📁 Python path ajouté: {current_dir}\")\n",
    "\n",
    "# Vérifier la structure du projet\n",
    "ultralytics_dir = current_dir / 'ultralytics'\n",
    "enhanced_file = ultralytics_dir / 'nn' / 'modules' / 'enhanced.py'\n",
    "\n",
    "print(f\"\\n🔍 Vérification de la structure:\")\n",
    "print(f\"   • ultralytics/: {'✅' if ultralytics_dir.exists() else '❌'}\")\n",
    "print(f\"   • enhanced.py: {'✅' if enhanced_file.exists() else '❌'}\")\n",
    "\n",
    "if not enhanced_file.exists():\n",
    "    print(\"❌ ERREUR: Fichier enhanced.py manquant!\")\n",
    "    print(\"💡 Assurez-vous d'être dans le bon répertoire avec le fork Ultralytics\")"
   ]
  },
  {
   "cell_type": "markdown",
   "metadata": {},
   "source": [
    "## 3. 🧪 Test des imports Enhanced"
   ]
  },
  {
   "cell_type": "code",
   "execution_count": null,
   "metadata": {},
   "outputs": [],
   "source": [
    "# Test des imports étape par étape\n",
    "print(\"🧪 Test des imports Enhanced...\")\n",
    "\n",
    "try:\n",
    "    # Import du fork local\n",
    "    print(\"1. Import ultralytics (fork local)...\")\n",
    "    from ultralytics import YOLO\n",
    "    print(\"   ✅ YOLO importé\")\n",
    "    \n",
    "    # Import des modules Enhanced\n",
    "    print(\"2. Import modules Enhanced...\")\n",
    "    from ultralytics.nn.modules.enhanced import A2Module, RELAN\n",
    "    print(\"   ✅ A2Module et RELAN importés\")\n",
    "    \n",
    "    # Test rapide des modules\n",
    "    print(\"3. Test des modules...\")\n",
    "    x = torch.randn(1, 64, 32, 32)\n",
    "    \n",
    "    a2 = A2Module(64, 64)\n",
    "    out_a2 = a2(x)\n",
    "    print(f\"   ✅ A2Module: {x.shape} -> {out_a2.shape}\")\n",
    "    \n",
    "    relan = RELAN(64, 64)\n",
    "    out_relan = relan(x)\n",
    "    print(f\"   ✅ RELAN: {x.shape} -> {out_relan.shape}\")\n",
    "    \n",
    "    print(\"\\n🎉 TOUS LES IMPORTS FONCTIONNENT !\")\n",
    "    \n",
    "except Exception as e:\n",
    "    print(f\"❌ ERREUR: {type(e).__name__}: {e}\")\n",
    "    import traceback\n",
    "    traceback.print_exc()\n",
    "    print(\"\\n💡 Vérifiez que vous êtes dans le bon répertoire avec le fork Ultralytics\")"
   ]
  },
  {
   "cell_type": "markdown",
   "metadata": {},
   "source": [
    "## 4. 📥 Préparation du dataset WIDERFace"
   ]
  },
  {
   "cell_type": "code",
   "execution_count": null,
   "metadata": {},
   "outputs": [],
   "source": [
    "# Télécharger et préparer le dataset WIDERFace\n",
    "\n",
    "# Vérifier si le dataset existe déjà\n",
    "widerface_config = Path('ultralytics/cfg/datasets/widerface.yaml')\n",
    "\n",
    "if widerface_config.exists():\n",
    "    print(\"✅ Configuration WIDERFace trouvée\")\n",
    "    \n",
    "    # Lire la config pour voir le path des données\n",
    "    import yaml\n",
    "    with open(widerface_config, 'r') as f:\n",
    "        config = yaml.safe_load(f)\n",
    "    \n",
    "    dataset_path = Path(config.get('path', 'datasets/widerface'))\n",
    "    print(f\"📁 Path dataset: {dataset_path}\")\n",
    "    \n",
    "    if dataset_path.exists():\n",
    "        print(\"✅ Dataset WIDERFace déjà présent\")\n",
    "    else:\n",
    "        print(\"📥 Dataset non trouvé, préparation nécessaire...\")\n",
    "        if Path('scripts/prepare_widerface.py').exists():\n",
    "            !python scripts/prepare_widerface.py\n",
    "        else:\n",
    "            print(\"⚠️ Script de préparation non trouvé. Téléchargement manuel nécessaire.\")\n",
    "else:\n",
    "    print(\"❌ Configuration WIDERFace non trouvée\")"
   ]
  },
  {
   "cell_type": "markdown",
   "metadata": {},
   "source": [
    "## 5. 🏋️ Configuration de l'entraînement"
   ]
  },
  {
   "cell_type": "code",
   "execution_count": null,
   "metadata": {},
   "outputs": [],
   "source": [
    "# Configuration de l'entraînement\n",
    "MODEL_ENHANCED = 'ultralytics/cfg/models/v12/yolov12-face-enhanced.yaml'\n",
    "MODEL_BASE = 'ultralytics/cfg/models/v12/yolov12-face.yaml'\n",
    "DATA = 'ultralytics/cfg/datasets/widerface.yaml'\n",
    "\n",
    "# Paramètres d'entraînement\n",
    "EPOCHS = 50  # Réduire pour test rapide (10-20)\n",
    "BATCH_SIZE = 16 if torch.cuda.is_available() else 4\n",
    "IMGSZ = 640\n",
    "DEVICE = 0 if torch.cuda.is_available() else 'cpu'\n",
    "\n",
    "# Choisir le modèle\n",
    "if Path(MODEL_ENHANCED).exists():\n",
    "    MODEL = MODEL_ENHANCED\n",
    "    print(\"🧠 Utilisation du modèle Enhanced avec A2Module et RELAN\")\n",
    "elif Path(MODEL_BASE).exists():\n",
    "    MODEL = MODEL_BASE\n",
    "    print(\"⚙️ Utilisation du modèle de base YOLOv12-Face\")\n",
    "else:\n",
    "    print(\"❌ Aucun modèle trouvé, utilisation de yolov12n\")\n",
    "    MODEL = 'yolov12n'\n",
    "\n",
    "print(f\"\\n⚙️ Configuration:\")\n",
    "print(f\"   • Modèle: {MODEL}\")\n",
    "print(f\"   • Données: {DATA}\")\n",
    "print(f\"   • Epochs: {EPOCHS}\")\n",
    "print(f\"   • Batch size: {BATCH_SIZE}\")\n",
    "print(f\"   • Image size: {IMGSZ}\")\n",
    "print(f\"   • Device: {DEVICE}\")"
   ]
  },
  {
   "cell_type": "markdown",
   "metadata": {},
   "source": [
    "## 6. 🚀 Entraînement"
   ]
  },
  {
   "cell_type": "code",
   "execution_count": null,
   "metadata": {},
   "outputs": [],
   "source": [
    "# Créer et entraîner le modèle\n",
    "try:\n",
    "    print(\"🚀 Démarrage de l'entraînement...\")\n",
    "    \n",
    "    # Créer le modèle YOLO\n",
    "    model = YOLO(MODEL)\n",
    "    print(f\"✅ Modèle chargé: {MODEL}\")\n",
    "    \n",
    "    # Lancer l'entraînement\n",
    "    results = model.train(\n",
    "        data=DATA,\n",
    "        epochs=EPOCHS,\n",
    "        batch=BATCH_SIZE,\n",
    "        imgsz=IMGSZ,\n",
    "        device=DEVICE,\n",
    "        project='runs/train',\n",
    "        name='yolov12-face-enhanced',\n",
    "        exist_ok=True,\n",
    "        save=True,\n",
    "        plots=True\n",
    "    )\n",
    "    \n",
    "    print(\"\\n🎉 Entraînement terminé !\")\n",
    "    \n",
    "except Exception as e:\n",
    "    print(f\"❌ ERREUR pendant l'entraînement: {e}\")\n",
    "    import traceback\n",
    "    traceback.print_exc()"
   ]
  },
  {
   "cell_type": "markdown",
   "metadata": {},
   "source": [
    "## 7. 📊 Validation du modèle"
   ]
  },
  {
   "cell_type": "code",
   "execution_count": null,
   "metadata": {},
   "outputs": [],
   "source": [
    "# Valider le modèle entraîné\n",
    "BEST_MODEL = 'runs/train/yolov12-face-enhanced/weights/best.pt'\n",
    "\n",
    "if Path(BEST_MODEL).exists():\n",
    "    print(\"📊 Validation du modèle...\")\n",
    "    \n",
    "    try:\n",
    "        # Charger le meilleur modèle\n",
    "        best_model = YOLO(BEST_MODEL)\n",
    "        \n",
    "        # Lancer la validation\n",
    "        val_results = best_model.val(\n",
    "            data=DATA,\n",
    "            device=DEVICE,\n",
    "            plots=True\n",
    "        )\n",
    "        \n",
    "        print(\"✅ Validation terminée\")\n",
    "        print(f\"📊 mAP50: {val_results.box.map50:.4f}\")\n",
    "        print(f\"📊 mAP50-95: {val_results.box.map:.4f}\")\n",
    "        \n",
    "    except Exception as e:\n",
    "        print(f\"❌ Erreur pendant la validation: {e}\")\n",
    "else:\n",
    "    print(\"❌ Modèle non trouvé. Entraînement nécessaire.\")"
   ]
  },
  {
   "cell_type": "markdown",
   "metadata": {},
   "source": [
    "## 8. 📦 Export du modèle"
   ]
  },
  {
   "cell_type": "code",
   "execution_count": null,
   "metadata": {},
   "outputs": [],
   "source": [
    "# Exporter en différents formats\n",
    "if Path(BEST_MODEL).exists():\n",
    "    try:\n",
    "        model = YOLO(BEST_MODEL)\n",
    "        \n",
    "        print(\"📦 Export ONNX...\")\n",
    "        model.export(format='onnx', simplify=True)\n",
    "        \n",
    "        print(\"📦 Export TorchScript...\")\n",
    "        model.export(format='torchscript')\n",
    "        \n",
    "        print(\"✅ Exports terminés!\")\n",
    "        \n",
    "    except Exception as e:\n",
    "        print(f\"❌ Erreur pendant l'export: {e}\")\n",
    "else:\n",
    "    print(\"❌ Modèle non trouvé\")"
   ]
  },
  {
   "cell_type": "markdown",
   "metadata": {},
   "source": [
    "## 9. 🖼️ Test sur une image"
   ]
  },
  {
   "cell_type": "code",
   "execution_count": null,
   "metadata": {},
   "outputs": [],
   "source": [
    "# Tester sur une image d'exemple\n",
    "if Path(BEST_MODEL).exists():\n",
    "    try:\n",
    "        model = YOLO(BEST_MODEL)\n",
    "        \n",
    "        # Chercher des images de test\n",
    "        test_images = []\n",
    "        \n",
    "        # Images de validation du dataset\n",
    "        val_images_dir = Path('datasets/widerface/images/val')\n",
    "        if val_images_dir.exists():\n",
    "            test_images.extend(list(val_images_dir.glob('*.jpg'))[:3])\n",
    "        \n",
    "        # Images d'exemple d'Ultralytics\n",
    "        example_images = Path('ultralytics/assets')\n",
    "        if example_images.exists():\n",
    "            test_images.extend(list(example_images.glob('*.jpg')))\n",
    "        \n",
    "        if test_images:\n",
    "            test_image = str(test_images[0])\n",
    "            print(f\"🖼️ Test sur: {test_image}\")\n",
    "            \n",
    "            # Lancer la détection\n",
    "            results = model.predict(\n",
    "                source=test_image,\n",
    "                save=True,\n",
    "                project='test_results',\n",
    "                name='demo',\n",
    "                exist_ok=True,\n",
    "                conf=0.5\n",
    "            )\n",
    "            \n",
    "            print(f\"✅ Détection terminée: {len(results[0].boxes)} visages détectés\")\n",
    "            print(\"📁 Résultats sauvegardés dans test_results/demo/\")\n",
    "        else:\n",
    "            print(\"❌ Aucune image de test trouvée\")\n",
    "    \n",
    "    except Exception as e:\n",
    "        print(f\"❌ Erreur pendant le test: {e}\")\n",
    "else:\n",
    "    print(\"❌ Modèle non trouvé\")"
   ]
  },
  {
   "cell_type": "markdown",
   "metadata": {},
   "source": [
    "## 10. 📈 Visualiser les résultats"
   ]
  },
  {
   "cell_type": "code",
   "execution_count": null,
   "metadata": {},
   "outputs": [],
   "source": [
    "# Afficher les courbes d'entraînement\n",
    "from IPython.display import Image, display\n",
    "\n",
    "results_path = Path('runs/train/yolov12-face-enhanced')\n",
    "\n",
    "if results_path.exists():\n",
    "    print(\"📊 Résultats d'entraînement:\")\n",
    "    \n",
    "    # Afficher les graphiques s'ils existent\n",
    "    plots = ['results.png', 'confusion_matrix.png', 'F1_curve.png', 'PR_curve.png']\n",
    "    \n",
    "    for plot in plots:\n",
    "        plot_path = results_path / plot\n",
    "        if plot_path.exists():\n",
    "            try:\n",
    "                print(f\"\\n📊 {plot}:\")\n",
    "                display(Image(filename=str(plot_path), width=800))\n",
    "            except Exception as e:\n",
    "                print(f\"   ❌ Erreur affichage {plot}: {e}\")\n",
    "                print(f\"   📁 Disponible: {plot_path}\")\n",
    "        else:\n",
    "            print(f\"❌ {plot} non trouvé\")\n",
    "else:\n",
    "    print(\"❌ Dossier de résultats non trouvé\")"
   ]
  },
  {
   "cell_type": "markdown",
   "metadata": {},
   "source": [
    "## 11. 💡 Résumé et commandes utiles"
   ]
  },
  {
   "cell_type": "code",
   "execution_count": null,
   "metadata": {},
   "outputs": [],
   "source": [
    "print(\"🎉 ENTRAÎNEMENT YOLOv12-FACE ENHANCED TERMINÉ !\")\n",
    "print(\"=\" * 50)\n",
    "\n",
    "# Vérification finale\n",
    "if Path(BEST_MODEL).exists():\n",
    "    print(f\"✅ Modèle entraîné: {BEST_MODEL}\")\n",
    "    print(f\"📊 Résultats: {results_path}\")\n",
    "    \n",
    "    model_size = Path(BEST_MODEL).stat().st_size / (1024*1024)\n",
    "    print(f\"📦 Taille du modèle: {model_size:.1f} MB\")\n",
    "    \n",
    "    if 'enhanced' in str(MODEL).lower():\n",
    "        print(\"\\n🧠 Modèle Enhanced utilisé !\")\n",
    "        print(\"   • A2Module: Area Attention Module\")\n",
    "        print(\"   • RELAN: Residual Efficient Layer Aggregation Network\")\n",
    "    else:\n",
    "        print(\"\\n⚙️ Modèle de base utilisé\")\n",
    "        \n",
    "    print(\"\\n🔧 Commandes utiles:\")\n",
    "    print(f\"# Test webcam:\")\n",
    "    print(f\"from ultralytics import YOLO\")\n",
    "    print(f\"model = YOLO('{BEST_MODEL}')\")\n",
    "    print(f\"model.predict(source=0, show=True)\")\n",
    "    \n",
    "    print(f\"\\n# Test sur vidéo:\")\n",
    "    print(f\"model.predict(source='video.mp4', save=True)\")\n",
    "    \n",
    "    print(f\"\\n# Validation:\")\n",
    "    print(f\"model.val(data='{DATA}')\")\n",
    "    \n",
    "else:\n",
    "    print(\"❌ Entraînement échoué ou modèle non sauvegardé\")\n",
    "    print(\"💡 Vérifiez les erreurs ci-dessus\")\n",
    "\n",
    "print(\"\\n🚀 Le modèle YOLOv12-Face Enhanced est prêt !\")\n",
    "print(\"\\n📧 Pour support: vérifiez la documentation du projet\")"
   ]
  }
 ],
 "metadata": {
  "kernelspec": {
   "display_name": "Python 3",
   "language": "python",
   "name": "python3"
  },
  "language_info": {
   "codemirror_mode": {
    "name": "ipython",
    "version": 3
   },
   "file_extension": ".py",
   "mimetype": "text/x-python",
   "name": "python",
   "nbconvert_exporter": "python",
   "pygments_lexer": "ipython3",
   "version": "3.8.0"
  }
 },
 "nbformat": 4,
 "nbformat_minor": 4
}