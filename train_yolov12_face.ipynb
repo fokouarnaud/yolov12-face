{
 "cells": [
  {
   "cell_type": "markdown",
   "metadata": {},
   "source": [
    "# 🚀 YOLOv12-Face - Notebook Simple\n",
    "\n",
    "Workflow complet : Installation → Dataset → Entraînement → Export"
   ]
  },
  {
   "cell_type": "markdown",
   "metadata": {},
   "source": [
    "## 1. 📦 Installation des dépendances"
   ]
  },
  {
   "cell_type": "code",
   "execution_count": null,
   "metadata": {},
   "outputs": [],
   "source": [
    "# Installer les dépendances nécessaires\n",
    "!pip install ultralytics gdown opencv-python -q\n",
    "\n",
    "# Vérifier l'installation\n",
    "import torch\n",
    "print(f\"✅ PyTorch: {torch.__version__}\")\n",
    "print(f\"✅ CUDA disponible: {torch.cuda.is_available()}\")\n",
    "if torch.cuda.is_available():\n",
    "    print(f\"✅ GPU: {torch.cuda.get_device_name(0)}\")"
   ]
  },
  {
   "cell_type": "markdown",
   "metadata": {},
   "source": [
    "## 2. 📥 Préparation du dataset WIDERFace"
   ]
  },
  {
   "cell_type": "code",
   "execution_count": null,
   "metadata": {},
   "outputs": [],
   "source": [
    "# Télécharger et préparer le dataset WIDERFace\n",
    "import os\n",
    "from pathlib import Path\n",
    "\n",
    "# Vérifier si le dataset existe déjà\n",
    "if Path('datasets/widerface/data.yaml').exists():\n",
    "    print(\"✅ Dataset WIDERFace déjà présent\")\n",
    "else:\n",
    "    print(\"📥 Téléchargement du dataset WIDERFace...\")\n",
    "    !python scripts/prepare_widerface.py --output datasets/widerface"
   ]
  },
  {
   "cell_type": "markdown",
   "metadata": {},
   "source": [
    "## 3. 🏋️ Entraînement du modèle"
   ]
  },
  {
   "cell_type": "code",
   "execution_count": null,
   "metadata": {},
   "outputs": [],
   "source": [
    "# Configuration simple\n",
    "MODEL = 'yolov12n.yaml'  # ou 'ultralytics/cfg/models/v12/yolov12-face.yaml'\n",
    "DATA = 'datasets/widerface/data.yaml'\n",
    "EPOCHS = 100  # Réduire pour tester (10-20)\n",
    "BATCH_SIZE = 16  # Ajuster selon votre GPU\n",
    "DEVICE = 0 if torch.cuda.is_available() else 'cpu'\n",
    "\n",
    "print(f\"⚙️ Configuration:\")\n",
    "print(f\"   • Modèle: {MODEL}\")\n",
    "print(f\"   • Epochs: {EPOCHS}\")\n",
    "print(f\"   • Batch size: {BATCH_SIZE}\")\n",
    "print(f\"   • Device: {DEVICE}\")"
   ]
  },
  {
   "cell_type": "code",
   "execution_count": null,
   "metadata": {},
   "outputs": [],
   "source": [
    "# Lancer l'entraînement\n",
    "!yolo detect train model={MODEL} data={DATA} epochs={EPOCHS} batch={BATCH_SIZE} device={DEVICE} imgsz=640 project=runs/train name=yolov12-face exist_ok=True"
   ]
  },
  {
   "cell_type": "markdown",
   "metadata": {},
   "source": [
    "## 4. 📊 Validation du modèle"
   ]
  },
  {
   "cell_type": "code",
   "execution_count": null,
   "metadata": {},
   "outputs": [],
   "source": [
    "# Valider le modèle entraîné\n",
    "BEST_MODEL = 'runs/train/yolov12-face/weights/best.pt'\n",
    "\n",
    "if Path(BEST_MODEL).exists():\n",
    "    print(\"📊 Validation du modèle...\")\n",
    "    !yolo detect val model={BEST_MODEL} data={DATA} device={DEVICE}\n",
    "else:\n",
    "    print(\"❌ Modèle non trouvé. Assurez-vous que l'entraînement est terminé.\")"
   ]
  },
  {
   "cell_type": "markdown",
   "metadata": {},
   "source": [
    "## 5. 📦 Export du modèle"
   ]
  },
  {
   "cell_type": "code",
   "execution_count": null,
   "metadata": {},
   "outputs": [],
   "source": [
    "# Exporter en ONNX pour le déploiement\n",
    "if Path(BEST_MODEL).exists():\n",
    "    print(\"📦 Export ONNX...\")\n",
    "    !yolo export model={BEST_MODEL} format=onnx simplify=True\n",
    "    \n",
    "    print(\"\\n📦 Export TorchScript...\")\n",
    "    !yolo export model={BEST_MODEL} format=torchscript\n",
    "    \n",
    "    print(\"\\n✅ Export terminé!\")\n",
    "else:\n",
    "    print(\"❌ Modèle non trouvé\")"
   ]
  },
  {
   "cell_type": "markdown",
   "metadata": {},
   "source": [
    "## 6. 🖼️ Test sur une image"
   ]
  },
  {
   "cell_type": "code",
   "execution_count": null,
   "metadata": {},
   "outputs": [],
   "source": [
    "# Tester sur une image d'exemple\n",
    "if Path(BEST_MODEL).exists():\n",
    "    # Prendre une image du dataset de validation\n",
    "    val_images = list(Path('datasets/widerface/images/val').glob('*.jpg'))\n",
    "    \n",
    "    if val_images:\n",
    "        test_image = str(val_images[0])\n",
    "        print(f\"🖼️ Test sur: {test_image}\")\n",
    "        \n",
    "        # Créer un dossier pour les résultats\n",
    "        !mkdir -p test_results\n",
    "        \n",
    "        # Lancer la détection\n",
    "        !yolo detect predict model={BEST_MODEL} source={test_image} save=True project=test_results name=demo exist_ok=True\n",
    "        \n",
    "        print(\"\\n✅ Résultats sauvegardés dans test_results/demo/\")\n",
    "    else:\n",
    "        print(\"❌ Aucune image de test trouvée\")\n",
    "else:\n",
    "    print(\"❌ Modèle non trouvé\")"
   ]
  },
  {
   "cell_type": "markdown",
   "metadata": {},
   "source": [
    "## 7. 📈 Visualiser les résultats"
   ]
  },
  {
   "cell_type": "code",
   "execution_count": null,
   "metadata": {},
   "outputs": [],
   "source": [
    "# Afficher les courbes d'entraînement\n",
    "from IPython.display import Image, display\n",
    "import os\n",
    "\n",
    "results_path = Path('runs/train/yolov12-face')\n",
    "\n",
    "# Afficher les graphiques s'ils existent\n",
    "plots = ['results.png', 'confusion_matrix.png', 'F1_curve.png', 'PR_curve.png']\n",
    "\n",
    "for plot in plots:\n",
    "    plot_path = results_path / plot\n",
    "    if plot_path.exists():\n",
    "        print(f\"\\n📊 {plot}:\")\n",
    "        display(Image(filename=str(plot_path), width=800))\n",
    "    else:\n",
    "        print(f\"❌ {plot} non trouvé\")"
   ]
  },
  {
   "cell_type": "markdown",
   "metadata": {},
   "source": [
    "## 💡 Commandes utiles"
   ]
  },
  {
   "cell_type": "code",
   "execution_count": null,
   "metadata": {},
   "outputs": [],
   "source": [
    "# Afficher les commandes utiles\n",
    "print(\"📋 Commandes utiles pour la suite:\\n\")\n",
    "\n",
    "print(\"# Reprendre l'entraînement:\")\n",
    "print(f\"yolo detect train model={BEST_MODEL} data={DATA} epochs=50 resume=True\\n\")\n",
    "\n",
    "print(\"# Tester sur une vidéo:\")\n",
    "print(f\"yolo detect predict model={BEST_MODEL} source=video.mp4 save=True\\n\")\n",
    "\n",
    "print(\"# Tester avec la webcam:\")\n",
    "print(f\"yolo detect predict model={BEST_MODEL} source=0 show=True\\n\")\n",
    "\n",
    "print(\"# Benchmark de vitesse:\")\n",
    "print(f\"yolo benchmark model={BEST_MODEL} imgsz=640\\n\")\n",
    "\n",
    "print(\"# Entraîner avec le script Python:\")\n",
    "print(\"python scripts/train_yolov12_face.py --model yolov12-face.yaml --epochs 100\")"
   ]
  }
 ],
 "metadata": {
  "kernelspec": {
   "display_name": "Python 3",
   "language": "python",
   "name": "python3"
  },
  "language_info": {
   "codemirror_mode": {
    "name": "ipython",
    "version": 3
   },
   "file_extension": ".py",
   "mimetype": "text/x-python",
   "name": "python",
   "nbconvert_exporter": "python",
   "pygments_lexer": "ipython3",
   "version": "3.8.0"
  }
 },
 "nbformat": 4,
 "nbformat_minor": 4
}
