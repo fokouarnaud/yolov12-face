{
    "cells": [
        {
            "cell_type": "markdown",
            "metadata": {},
            "source": [
                "# 🚀 YOLOv12-Face Enhanced Training\n",
                "\n",
                "Notebook d'entraînement du modèle YOLOv12-Face avec modules d'attention Enhanced."
            ]
        },
        {
            "cell_type": "markdown",
            "metadata": {},
            "source": [
                "## 📦 Installation des Dépendances"
            ]
        },
        {
            "cell_type": "code",
            "execution_count": null,
            "metadata": {},
            "outputs": [],
            "source": [
                "# Installer les dépendances nécessaires\n",
                "!pip install ultralytics gdown opencv-python -q\n",
                "\n",
                "# Vérifier l'installation\n",
                "import torch\n",
                "print(f\"✅ PyTorch: {torch.__version__}\")\n",
                "print(f\"✅ CUDA disponible: {torch.cuda.is_available()}\")\n",
                "if torch.cuda.is_available():\n",
                "    print(f\"✅ GPU: {torch.cuda.get_device_name(0)}\")\n",
                "\n",
                "print(\"📦 Dépendances installées avec succès !\")"
            ]
        },
        {
            "cell_type": "markdown",
            "metadata": {},
            "source": [
                "## 🔧 Configuration et Restauration"
            ]
        },
        {
            "cell_type": "code",
            "execution_count": null,
            "metadata": {},
            "outputs": [],
            "source": [
                "import os\n",
                "import shutil\n",
                "from pathlib import Path\n",
                "\n",
                "# Configuration des chemins (compatible environnements cloud)\n",
                "try:\n",
                "    PROJECT_ROOT = Path.cwd()\n",
                "except (FileNotFoundError, OSError):\n",
                "    # Fallback pour environnements cloud\n",
                "    PROJECT_ROOT = Path('/content') if Path('/content').exists() else Path.home()\n",
                "    print(f\"⚠️ Utilisation du répertoire: {PROJECT_ROOT}\")\n",
                "\n",
                "SCRIPTS_DIR = PROJECT_ROOT / \"scripts\"\n",
                "CONFIGS_DIR = SCRIPTS_DIR / \"configs\"\n",
                "\n",
                "print(f\"📁 Projet: {PROJECT_ROOT}\")\n",
                "print(f\"📁 Scripts: {SCRIPTS_DIR}\")\n",
                "print(f\"📁 Configs: {CONFIGS_DIR}\")\n",
                "\n",
                "# Créer structure de sauvegarde si nécessaire\n",
                "SCRIPTS_DIR.mkdir(exist_ok=True)\n",
                "CONFIGS_DIR.mkdir(exist_ok=True)\n",
                "(CONFIGS_DIR / 'datasets').mkdir(exist_ok=True)\n",
                "(CONFIGS_DIR / 'models' / 'v12').mkdir(parents=True, exist_ok=True)\n",
                "(CONFIGS_DIR / 'modules').mkdir(exist_ok=True)\n",
                "\n",
                "print(\"✅ Structure créée\")"
            ]
        },
        {
            "cell_type": "code",
            "execution_count": null,
            "metadata": {},
            "outputs": [],
            "source": [
                "def restore_configs():\n",
                "    \"\"\"Restaure nos fichiers personnalisés\"\"\"\n",
                "    files_map = [\n",
                "        ('datasets/widerface.yaml', 'ultralytics/cfg/datasets/widerface.yaml'),\n",
                "        ('models/v12/yolov12-face.yaml', 'ultralytics/cfg/models/v12/yolov12-face.yaml'),\n",
                "        ('models/v12/yolov12-face-enhanced.yaml', 'ultralytics/cfg/models/v12/yolov12-face-enhanced.yaml'),\n",
                "        ('modules/enhanced.py', 'ultralytics/nn/modules/enhanced.py')\n",
                "    ]\n",
                "    \n",
                "    restored_count = 0\n",
                "    for src, dst in files_map:\n",
                "        src_path = CONFIGS_DIR / src\n",
                "        dst_path = PROJECT_ROOT / dst\n",
                "        \n",
                "        if src_path.exists():\n",
                "            dst_path.parent.mkdir(parents=True, exist_ok=True)\n",
                "            shutil.copy2(src_path, dst_path)\n",
                "            print(f\"🔄 Restauré: {dst}\")\n",
                "            restored_count += 1\n",
                "        else:\n",
                "            print(f\"⚠️ Fichier manquant: {src}\")\n",
                "    \n",
                "    # Mettre à jour __init__.py\n",
                "    init_file = PROJECT_ROOT / 'ultralytics/nn/modules/__init__.py'\n",
                "    if init_file.exists():\n",
                "        with open(init_file, 'r') as f:\n",
                "            content = f.read()\n",
                "        \n",
                "        if 'from .enhanced import *' not in content:\n",
                "            lines = content.split('\\n')\n",
                "            for i, line in enumerate(lines):\n",
                "                if line.startswith('__all__'):\n",
                "                    lines.insert(i, 'from .enhanced import *')\n",
                "                    break\n",
                "            \n",
                "            with open(init_file, 'w') as f:\n",
                "                f.write('\\n'.join(lines))\n",
                "            print(\"✅ __init__.py mis à jour\")\n",
                "    \n",
                "    return restored_count\n",
                "\n",
                "# Restaurer les configurations\n",
                "restored = restore_configs()\n",
                "print(f\"\\n📊 {restored} fichiers restaurés\")"
            ]
        },
        {
            "cell_type": "markdown",
            "metadata": {},
            "source": [
                "## ✅ Vérification"
            ]
        },
        {
            "cell_type": "code",
            "execution_count": null,
            "metadata": {},
            "outputs": [],
            "source": [
                "# Import d'Ultralytics\n",
                "from ultralytics import YOLO\n",
                "print(\"✅ Ultralytics importé\")\n",
                "\n",
                "# Test modules enhanced\n",
                "try:\n",
                "    from ultralytics.nn.modules.enhanced import A2Module, RELAN\n",
                "    print(\"✅ Modules Enhanced importés\")\n",
                "    \n",
                "    # Test rapide\n",
                "    x = torch.randn(1, 64, 32, 32)\n",
                "    a2 = A2Module(64, 64)\n",
                "    out = a2(x)\n",
                "    print(f\"✅ Test A2Module: {x.shape} -> {out.shape}\")\n",
                "    \n",
                "except ImportError as e:\n",
                "    print(f\"❌ Modules Enhanced non trouvés: {e}\")\n",
                "    print(\"💡 Vérifiez que la restauration des fichiers a réussi\")\n",
                "except Exception as e:\n",
                "    print(f\"❌ Erreur de test: {e}\")"
            ]
        },
        {
            "cell_type": "markdown",
            "metadata": {},
            "source": [
                "## 🏋️ Entraînement Enhanced"
            ]
        },
        {
            "cell_type": "code",
            "execution_count": null,
            "metadata": {},
            "outputs": [],
            "source": [
                "# Configuration\n",
                "MODEL_CONFIG = \"ultralytics/cfg/models/v12/yolov12-face-enhanced.yaml\"\n",
                "DATA_CONFIG = \"ultralytics/cfg/datasets/widerface.yaml\"\n",
                "EPOCHS = 100\n",
                "BATCH_SIZE = 16\n",
                "\n",
                "print(f\"📊 Configuration:\")\n",
                "print(f\"   Model: {MODEL_CONFIG}\")\n",
                "print(f\"   Data: {DATA_CONFIG}\")\n",
                "print(f\"   Epochs: {EPOCHS}\")\n",
                "print(f\"   Batch: {BATCH_SIZE}\")\n",
                "\n",
                "# Créer modèle\n",
                "model = YOLO(MODEL_CONFIG)\n",
                "print(\"✅ Modèle Enhanced créé\")"
            ]
        },
        {
            "cell_type": "code",
            "execution_count": null,
            "metadata": {},
            "outputs": [],
            "source": [
                "# Entraînement\n",
                "print(\"🚀 Démarrage de l'entraînement...\")\n",
                "\n",
                "results = model.train(\n",
                "    data=DATA_CONFIG,\n",
                "    epochs=EPOCHS,\n",
                "    batch=BATCH_SIZE,\n",
                "    imgsz=640,\n",
                "    device=0 if torch.cuda.is_available() else 'cpu',\n",
                "    project='runs/detect',\n",
                "    name='yolov12-face-enhanced',\n",
                "    save=True,\n",
                "    plots=True\n",
                ")\n",
                "\n",
                "print(\"🎉 Entraînement terminé !\")"
            ]
        },
        {
            "cell_type": "markdown",
            "metadata": {},
            "source": [
                "## 📊 Résultats"
            ]
        },
        {
            "cell_type": "code",
            "execution_count": null,
            "metadata": {},
            "outputs": [],
            "source": [
                "import pandas as pd\n",
                "import matplotlib.pyplot as plt\n",
                "\n",
                "# Charger résultats\n",
                "results_csv = Path('runs/detect/yolov12-face-enhanced/results.csv')\n",
                "\n",
                "if results_csv.exists():\n",
                "    df = pd.read_csv(results_csv)\n",
                "    df.columns = df.columns.str.strip()\n",
                "    \n",
                "    # Graphique simple\n",
                "    plt.figure(figsize=(12, 8))\n",
                "    \n",
                "    plt.subplot(2, 2, 1)\n",
                "    if 'metrics/mAP50(B)' in df.columns:\n",
                "        plt.plot(df['epoch'], df['metrics/mAP50(B)'])\n",
                "        plt.title('mAP@0.5')\n",
                "        plt.grid(True)\n",
                "    \n",
                "    plt.subplot(2, 2, 2)\n",
                "    if 'metrics/precision(B)' in df.columns:\n",
                "        plt.plot(df['epoch'], df['metrics/precision(B)'])\n",
                "        plt.title('Precision')\n",
                "        plt.grid(True)\n",
                "    \n",
                "    plt.subplot(2, 2, 3)\n",
                "    if 'metrics/recall(B)' in df.columns:\n",
                "        plt.plot(df['epoch'], df['metrics/recall(B)'])\n",
                "        plt.title('Recall')\n",
                "        plt.grid(True)\n",
                "    \n",
                "    plt.subplot(2, 2, 4)\n",
                "    if 'train/box_loss' in df.columns:\n",
                "        plt.plot(df['epoch'], df['train/box_loss'])\n",
                "        plt.title('Loss')\n",
                "        plt.grid(True)\n",
                "    \n",
                "    plt.tight_layout()\n",
                "    plt.show()\n",
                "    \n",
                "    # Meilleures métriques\n",
                "    print(\"📈 Meilleures performances:\")\n",
                "    if 'metrics/mAP50(B)' in df.columns:\n",
                "        print(f\"   mAP@0.5: {df['metrics/mAP50(B)'].max():.4f}\")\n",
                "    if 'metrics/precision(B)' in df.columns:\n",
                "        print(f\"   Precision: {df['metrics/precision(B)'].max():.4f}\")\n",
                "    if 'metrics/recall(B)' in df.columns:\n",
                "        print(f\"   Recall: {df['metrics/recall(B)'].max():.4f}\")\n",
                "\n",
                "else:\n",
                "    print(\"❌ Résultats non trouvés\")"
            ]
        },
        {
            "cell_type": "markdown",
            "metadata": {},
            "source": [
                "## 🧪 Test du Modèle"
            ]
        },
        {
            "cell_type": "code",
            "execution_count": null,
            "metadata": {},
            "outputs": [],
            "source": [
                "# Charger le meilleur modèle\n",
                "best_model = Path('runs/detect/yolov12-face-enhanced/weights/best.pt')\n",
                "\n",
                "if best_model.exists():\n",
                "    model_trained = YOLO(str(best_model))\n",
                "    print(f\"📁 Modèle chargé: {best_model}\")\n",
                "    \n",
                "    # Validation\n",
                "    val_results = model_trained.val(data=DATA_CONFIG)\n",
                "    \n",
                "    print(\"📊 Résultats finaux:\")\n",
                "    print(f\"   mAP@0.5: {val_results.box.map50:.4f}\")\n",
                "    print(f\"   mAP@0.5-0.95: {val_results.box.map:.4f}\")\n",
                "    print(f\"   Precision: {val_results.box.mp:.4f}\")\n",
                "    print(f\"   Recall: {val_results.box.mr:.4f}\")\n",
                "    \n",
                "    # Export ONNX\n",
                "    try:\n",
                "        onnx_path = model_trained.export(format='onnx', imgsz=640)\n",
                "        print(f\"✅ Modèle exporté: {onnx_path}\")\n",
                "    except Exception as e:\n",
                "        print(f\"⚠️ Export échoué: {e}\")\n",
                "\n",
                "else:\n",
                "    print(\"❌ Modèle non trouvé\")"
            ]
        },
        {
            "cell_type": "markdown",
            "metadata": {},
            "source": [
                "## 🎉 Terminé !\n",
                "\n",
                "### ✅ Ce qui a été fait :\n",
                "- Installation automatique des dépendances\n",
                "- Restauration des configurations Enhanced\n",
                "- Entraînement du modèle YOLOv12-Face Enhanced\n",
                "- Analyse des performances\n",
                "- Export du modèle\n",
                "\n",
                "### 📁 Fichiers générés :\n",
                "- `runs/detect/yolov12-face-enhanced/weights/best.pt`\n",
                "- `runs/detect/yolov12-face-enhanced/results.csv`\n",
                "- Modèle ONNX exporté\n",
                "\n",
                "**Le modèle Enhanced est prêt pour la production ! 🚀**"
            ]
        }
    ],
    "metadata": {
        "kernelspec": {
            "display_name": "Python 3",
            "language": "python",
            "name": "python3"
        },
        "language_info": {
            "codemirror_mode": {
                "name": "ipython",
                "version": 3
            },
            "file_extension": ".py",
            "mimetype": "text/x-python",
            "name": "python",
            "nbconvert_exporter": "python",
            "pygments_lexer": "ipython3",
            "version": "3.8.0"
        }
    },
    "nbformat": 4,
    "nbformat_minor": 4
}